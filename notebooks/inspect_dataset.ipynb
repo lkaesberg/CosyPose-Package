{
 "cells": [
  {
   "cell_type": "code",
   "execution_count": null,
   "metadata": {
    "pycharm": {
     "name": "#%%\n",
     "is_executing": true
    }
   },
   "outputs": [],
   "source": [
    "%load_ext autoreload\n",
    "%autoreload 2\n",
    "from pathlib import Path\n",
    "import numpy as np\n",
    "import torch\n",
    "import torch.nn.functional as F\n",
    "import matplotlib.pyplot as plt\n",
    "from cosypose.visualization.bokeh_utils import plot_image\n",
    "from bokeh.io import output_notebook, show; output_notebook()\n",
    "from bokeh.layouts import grid, gridplot\n",
    "from cosypose.datasets.datasets_cfg import make_scene_dataset"
   ]
  },
  {
   "cell_type": "code",
   "execution_count": null,
   "metadata": {
    "pycharm": {
     "name": "#%%\n",
     "is_executing": true
    }
   },
   "outputs": [],
   "source": [
    "# ds_name = 'ycbv.train.real'\n",
    "ds_name = 'synthetic.tless-1M.train'\n",
    "scene_ds = make_scene_dataset(ds_name)"
   ]
  },
  {
   "cell_type": "code",
   "execution_count": null,
   "outputs": [],
   "source": [
    "from cosypose.visualization.plotter import Plotter\n",
    "\n",
    "figures = []\n",
    "ids = np.random.randint(len(scene_ds), size=9)\n",
    "for idx in ids:\n",
    "    im, mask, obs = scene_ds[idx]\n",
    "    im = np.asarray(im)[..., :3]\n",
    "    f, _ = plot_image(im, axes=False, tools='save')\n",
    "    figures.append(f)\n",
    "plot = gridplot(figures, ncols=3, sizing_mode='scale_width')\n",
    "show(plot)"
   ],
   "metadata": {
    "collapsed": false,
    "pycharm": {
     "name": "#%%\n"
    }
   }
  },
  {
   "cell_type": "code",
   "execution_count": null,
   "outputs": [],
   "source": [],
   "metadata": {
    "collapsed": false,
    "pycharm": {
     "name": "#%%\n"
    }
   }
  }
 ],
 "metadata": {
  "kernelspec": {
   "name": "python3",
   "language": "python",
   "display_name": "Python 3"
  },
  "language_info": {
   "codemirror_mode": {
    "name": "ipython",
    "version": 3
   },
   "file_extension": ".py",
   "mimetype": "text/x-python",
   "name": "python",
   "nbconvert_exporter": "python",
   "pygments_lexer": "ipython3",
   "version": "3.7.6"
  }
 },
 "nbformat": 4,
 "nbformat_minor": 4
}